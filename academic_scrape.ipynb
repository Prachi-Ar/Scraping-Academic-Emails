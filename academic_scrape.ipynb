{
  "nbformat": 4,
  "nbformat_minor": 0,
  "metadata": {
    "colab": {
      "provenance": [],
      "authorship_tag": "ABX9TyPWbXk/zw5U4mhYX91P9O+x",
      "include_colab_link": true
    },
    "kernelspec": {
      "name": "python3",
      "display_name": "Python 3"
    },
    "language_info": {
      "name": "python"
    }
  },
  "cells": [
    {
      "cell_type": "markdown",
      "metadata": {
        "id": "view-in-github",
        "colab_type": "text"
      },
      "source": [
        "<a href=\"https://colab.research.google.com/github/Prachi-Ar/Scraping-Academic-Emails/blob/main/academic_scrape.ipynb\" target=\"_parent\"><img src=\"https://colab.research.google.com/assets/colab-badge.svg\" alt=\"Open In Colab\"/></a>"
      ]
    },
    {
      "cell_type": "code",
      "execution_count": null,
      "metadata": {
        "id": "R2yIumPqMmVZ"
      },
      "outputs": [],
      "source": [
        "import csv\n",
        "import pandas as pd\n",
        "from urllib.request import Request, urlopen\n",
        "from bs4 import BeautifulSoup"
      ]
    },
    {
      "cell_type": "code",
      "source": [
        "import numpy as np\n"
      ],
      "metadata": {
        "id": "kElasvciNakb"
      },
      "execution_count": null,
      "outputs": []
    },
    {
      "cell_type": "code",
      "source": [
        "def read_url(url):\n",
        "  req = Request(url, headers={'User-Agent': 'Mozilla/5.0'})\n",
        "  webpage = urlopen(req).read()\n",
        "  soup = BeautifulSoup(webpage, 'html.parser')\n",
        "  return soup\n",
        "\n",
        "email_list = []"
      ],
      "metadata": {
        "id": "weNZyElwfthK"
      },
      "execution_count": null,
      "outputs": []
    },
    {
      "cell_type": "code",
      "source": [
        "from google.colab import drive\n",
        "drive.mount('/content/drive')"
      ],
      "metadata": {
        "colab": {
          "base_uri": "https://localhost:8080/"
        },
        "id": "XzW4eWWLO8fu",
        "outputId": "50470e54-d2c4-4c49-c49a-cc85fadacaac"
      },
      "execution_count": null,
      "outputs": [
        {
          "output_type": "stream",
          "name": "stdout",
          "text": [
            "Mounted at /content/drive\n"
          ]
        }
      ]
    },
    {
      "cell_type": "code",
      "source": [
        "# Monash\n",
        "\n",
        "# Department of economics \n",
        "\n",
        "academic_emails =  []\n",
        "academic_names  =  []\n",
        "academic_pages  =  []\n",
        "\n",
        "url_monash = \"https://www.monash.edu/business/economics/our-people/staff-directory\"\n",
        "\n",
        "\n",
        "page = read_url(url_monash)\n",
        "\n",
        "d_tags = page.find_all('div', {'class':'staff-content'})\n",
        "\n",
        "for d_tag in d_tags:\n",
        "  academic_names.append(d_tag.find('a').text)\n",
        "  academic_pages.append(d_tag.find('a')['href'])\n",
        "\n",
        "academic_pages = academic_pages[::2]\n",
        "academic_names = academic_names[::2]\n",
        "\n",
        "academic_pages.pop(-3)\n",
        "academic_names.pop(-3)\n",
        "      \n",
        "a_tags = page.find_all('a')\n",
        "\n",
        "for a_tag in a_tags:\n",
        "  if '@monash.edu' in a_tag['href']:\n",
        "    academic_emails.append(a_tag.text)\n",
        "\n",
        "\n",
        "academic_emails = [e.replace('encryptedA();', '@') for e in academic_emails]\n",
        "academic_emails = [e.replace('encryptedDot();', '.') for e in academic_emails]\n",
        "\n"
      ],
      "metadata": {
        "id": "MJbz_Miof8b3"
      },
      "execution_count": null,
      "outputs": []
    },
    {
      "cell_type": "code",
      "source": [
        "len(academic_pages)"
      ],
      "metadata": {
        "colab": {
          "base_uri": "https://localhost:8080/"
        },
        "id": "0gpfhWusjgkx",
        "outputId": "3d9303b8-23ce-4c26-d1a8-17c39ba1ffa2"
      },
      "execution_count": null,
      "outputs": [
        {
          "output_type": "execute_result",
          "data": {
            "text/plain": [
              "78"
            ]
          },
          "metadata": {},
          "execution_count": 4
        }
      ]
    },
    {
      "cell_type": "code",
      "source": [
        "# Newcastle University \n",
        "\n",
        "# Business School\n",
        "\n",
        "nwcl_names = []\n",
        "nwcl_pages = []\n",
        "nwcl_emails = []\n",
        "\n",
        "url_newcastle = \"https://www.newcastle.edu.au/school/newcastle-business-school/people\"\n",
        "\n",
        "page = read_url(url_newcastle)\n",
        "\n",
        "a_tags = page.find_all('a')\n",
        "\n",
        "for a_tag in a_tags:\n",
        "    if '/profile/' in a_tag['href']:\n",
        "      nwcl_names.append(a_tag.text)\n",
        "      nwcl_pages.append(a_tag['href'])\n",
        "\n",
        "del nwcl_pages[0::2]\n",
        "del nwcl_names[0::2]\n",
        "\n",
        "for atag in a_tags:\n",
        "    if 'mailto:' in atag['href']:\n",
        "      nwcl_emails.append(atag.text)\n",
        "\n",
        "del nwcl_emails [-3:]\n",
        "\n",
        "for page in nwcl_pages:\n",
        "      academic_pages.append(page)\n",
        "\n",
        "for name in nwcl_names:\n",
        "      academic_names.append(name)\n",
        "\n",
        "for email in nwcl_emails:\n",
        "      academic_emails.append(email)\n"
      ],
      "metadata": {
        "id": "Tk3noXfefz6s"
      },
      "execution_count": null,
      "outputs": []
    },
    {
      "cell_type": "code",
      "source": [
        "# UNSW Canberra\n",
        "\n",
        "# School of humanities and social sciences\n",
        "\n",
        "\n",
        "url_unsw_cbr = [\"https://www.unsw.adfa.edu.au/hass/our-people?keywords=&term_node_tid_depth=All&page=0\",\n",
        "                \"https://www.unsw.adfa.edu.au/hass/our-people?keywords=&term_node_tid_depth=All&page=1\", \n",
        "                \"https://www.unsw.adfa.edu.au/hass/our-people?keywords=&term_node_tid_depth=All&page=2\"]\n",
        "\n",
        "unsw_cbr_names = []\n",
        "unsw_cbr_pages = []\n",
        "unsw_cbr_emails = []\n",
        "\n",
        "for link in url_unsw_cbr:\n",
        "  page = read_url(link)\n",
        "\n",
        "  a_tags = page.find_all('a')\n",
        "\n",
        "  for a_tag in a_tags:\n",
        "    if '.edu.au' in a_tag.text:\n",
        "      unsw_cbr_emails.append(a_tag.text)\n",
        "\n",
        "\n",
        "  a_tags = page.find_all('a', {'class':'text-default-hue'})\n",
        "\n",
        "  for a_tag in a_tags:\n",
        "    unsw_cbr_names.append(a_tag.text)\n",
        "    unsw_cbr_pages.append(\"https://www.unsw.adfa.edu.au/\" + a_tag['href'])\n",
        "\n",
        "index = [7, 12-1, 33-2, 45-3, 47-4]\n",
        "\n",
        "for i in index:\n",
        "  unsw_cbr_pages.pop(i)\n",
        "  unsw_cbr_names.pop(i)\n",
        "\n",
        "\n",
        "for page in unsw_cbr_pages:\n",
        "      academic_pages.append(page)\n",
        "\n",
        "for name in unsw_cbr_names:\n",
        "      academic_names.append(name)\n",
        "\n",
        "for email in unsw_cbr_emails:\n",
        "      academic_emails.append(email)"
      ],
      "metadata": {
        "id": "tHztAYSFgBHu"
      },
      "execution_count": null,
      "outputs": []
    },
    {
      "cell_type": "code",
      "source": [
        "  \n",
        "# UTS \n",
        "\n",
        "# Economics\n",
        "\n",
        "url_uts = [\"https://www.uts.edu.au/about/uts-business-school/economics/academic-staff-economics-dg\",\n",
        "           \"https://www.uts.edu.au/about/faculty-arts-and-social-sciences/faculty-arts-and-social-sciences-staff-contacts/all-staff\"]\n",
        "\n",
        "uts_names = []\n",
        "uts_pages = []\n",
        "uts_emails = []\n",
        "\n",
        "for link in url_uts:\n",
        "\n",
        "  page = read_url(link)\n",
        "\n",
        "  h_tags = page.find_all('h4')\n",
        "\n",
        "  for h_tag in h_tags:\n",
        "    uts_names.append(h_tag.find('a').text)\n",
        "    uts_pages.append('https://www.uts.edu.au'+ h_tag.find('a')['href'])\n",
        "\n",
        "# need slelenium for email addresses\n"
      ],
      "metadata": {
        "id": "DvPa0S8DgCFT"
      },
      "execution_count": null,
      "outputs": []
    },
    {
      "cell_type": "code",
      "source": [
        "#ANU Crawford\n",
        "\n",
        "#maybe try scraping table\n",
        "\n",
        "anu_cwd_names  = []\n",
        "anu_cwd_pages  = []\n",
        "anu_cwd_emails = []\n",
        "\n",
        "pages = range(0,18)\n",
        "\n",
        "for number in pages:\n",
        "  url_anu_cwd = f\"https://crawford.anu.edu.au/people?page={number}\"\n",
        "\n",
        "  page = read_url(url_anu_cwd) \n",
        "\n",
        "  table_tag = page.find('tbody')\n",
        "\n",
        "  for tr in table_tag.find_all('tr'):\n",
        "    for a_tag in  tr.find_all('a'):\n",
        "      if '/people/phd/' in a_tag['href'] or '/people/academic/' in a_tag['href'] or '/people/visitors/' in a_tag['href']:\n",
        "        name_a_tag = a_tag\n",
        "        anu_cwd_pages.append('https://crawford.anu.edu.au/' + name_a_tag['href'])\n",
        "        anu_cwd_names.append(name_a_tag.text)\n",
        "\n",
        "        email_a_tag = name_a_tag.parent.findNext('td').findNext('td')\n",
        "\n",
        "        for tag in email_a_tag.find_all('a'):\n",
        "\n",
        "          if 'mailto:' in tag['href']:\n",
        "            anu_cwd_emails.append(tag['href'])\n",
        "\n",
        "          else:\n",
        "            anu_cwd_emails.append(\" \")\n",
        "\n",
        "      else:\n",
        "        pass\n",
        "anu_cwd_emails = [email.replace(\"\\t\", \"\") for email in anu_cwd_emails]\n",
        "anu_cwd_emails = [email.replace(\"\\n\", \"\") for email in anu_cwd_emails]\n",
        "anu_cwd_emails = [email.replace(\"!\", \".\") for email in anu_cwd_emails]\n",
        "anu_cwd_emails = [email.replace(\"()\", \"@\") for email in anu_cwd_emails]\n",
        "anu_cwd_emails = [email.replace(\" \", \"\") for email in anu_cwd_emails]\n",
        "\n",
        "# for page in anu_cwd_pages:\n",
        "#       academic_pages.append(page)\n",
        "\n",
        "# for name in anu_cwd_names:\n",
        "#       academic_names.append(name)\n",
        "\n",
        "for email in anu_cwd_emails:\n",
        "      academic_emails.append(email)\n"
      ],
      "metadata": {
        "id": "M2FZNxAZTNQr"
      },
      "execution_count": null,
      "outputs": []
    },
    {
      "cell_type": "code",
      "source": [
        "anu_cass_names  = []\n",
        "anu_cass_pages  = []\n",
        "anu_cass_emails = []\n",
        "\n",
        "pages = range(0,19)\n",
        "\n",
        "for number in pages:\n",
        "  url_anu_cass = f\"https://cass.anu.edu.au/research/people?page={number}\"\n",
        "\n",
        "\n",
        "\n",
        "  page = read_url(url_anu_cass) \n",
        "\n",
        "  for a_tag in  page.findAll('a'):\n",
        "    if 'https://researchers.anu.edu.au/researchers/' in a_tag['href']:\n",
        "      anu_cass_pages.append(a_tag['href'])\n",
        "      anu_cass_names.append(a_tag.text)\n",
        "\n",
        "\n",
        "    if 'mailto:' in a_tag['href']:\n",
        "      anu_cass_emails.append(a_tag['href'])\n",
        "\n",
        "anu_cass_pages = anu_cass_pages[::3]\n",
        "\n",
        "for email in anu_cass_emails:\n",
        "  academic_emails.append(email)\n",
        "  \n",
        "# anu_cwd_emails = [email.replace(\"\\t\", \"\") for email in anu_cwd_emails]\n",
        "# anu_cwd_emails = [email.replace(\"\\n\", \"\") for email in anu_cwd_emails]\n",
        "# anu_cwd_emails = [email.replace(\"!\", \".\") for email in anu_cwd_emails]\n",
        "# anu_cwd_emails = [email.replace(\"()\", \"@\") for email in anu_cwd_emails]\n",
        "# anu_cwd_emails = [email.replace(\" \", \"\") for email in anu_cwd_emails]\n"
      ],
      "metadata": {
        "id": "NvIHomtOj8eo"
      },
      "execution_count": null,
      "outputs": []
    },
    {
      "cell_type": "code",
      "source": [],
      "metadata": {
        "id": "PQYeZsGhDgFR"
      },
      "execution_count": null,
      "outputs": []
    },
    {
      "cell_type": "code",
      "source": [
        "anu_cass_emails"
      ],
      "metadata": {
        "colab": {
          "base_uri": "https://localhost:8080/"
        },
        "id": "0uRvzuoWenXi",
        "outputId": "53386105-4594-4a65-fd49-b84eeb05b9ed"
      },
      "execution_count": null,
      "outputs": [
        {
          "output_type": "execute_result",
          "data": {
            "text/plain": [
              "['mailto:ibrahim.abraham@anu.edu.au',\n",
              " 'mailto:robert.ackland@anu.edu.au',\n",
              " 'mailto:alison.alder@anu.edu.au',\n",
              " 'mailto:malcolm.allbrook@anu.edu.au',\n",
              " 'mailto:liz.allen@anu.edu.au',\n",
              " 'mailto:peter.alwast@anu.edu.au',\n",
              " 'mailto:Jilda.Andrews@anu.edu.au',\n",
              " 'mailto:bernard.baffour@anu.edu.au',\n",
              " 'mailto:aditya.balasubramanian@anu.edu.au',\n",
              " 'mailto:azadsingh.bali@anu.edu.au',\n",
              " 'mailto:katharine.balolia@anu.edu.au',\n",
              " 'mailto:leslie.barnes@anu.edu.au',\n",
              " 'mailto:christian.barry@anu.edu.au',\n",
              " 'mailto:Katrine.Beauregard@anu.edu.au',\n",
              " 'mailto:externalrelations.cass@anu.edu.au',\n",
              " 'mailto:web.cass@anu.edu.au',\n",
              " 'mailto:alison.behie@anu.edu.au',\n",
              " 'mailto:samantha.bennett@anu.edu.au',\n",
              " 'mailto:Kenneth.Benoit@anu.edu.au',\n",
              " 'mailto:April.Biccum@anu.edu.au',\n",
              " 'mailto:nicholas.biddle@anu.edu.au',\n",
              " 'mailto:rosey.billington@anu.edu.au',\n",
              " 'mailto:Christopher.Bishop@anu.edu.au',\n",
              " 'mailto:katherine.bode@anu.edu.au',\n",
              " 'mailto:frank.bongiorno@anu.edu.au',\n",
              " 'mailto:Katharina.Bonzel@anu.edu.au ',\n",
              " 'mailto:william.bosworth@anu.edu.au',\n",
              " 'mailto:kate.bowan@anu.edu.au',\n",
              " 'mailto:ben.bramble@anu.edu.au',\n",
              " 'mailto:rob.bray@anu.edu.au',\n",
              " 'mailto:externalrelations.cass@anu.edu.au',\n",
              " 'mailto:web.cass@anu.edu.au',\n",
              " 'mailto:geoffrey.brennan@anu.edu.au',\n",
              " 'mailto:julie.brooke@anu.edu.au',\n",
              " 'mailto:rachael.brown@anu.edu.au',\n",
              " 'mailto:nicholas.brown@anu.edu.au',\n",
              " 'mailto:sj.burton@anu.edu.au',\n",
              " 'mailto:Richard.Campbell@anu.edu.au',\n",
              " 'mailto:noel.campbell@anu.edu.au',\n",
              " 'mailto:vladimir.canudas-romo@anu.edu.au',\n",
              " 'mailto:katherine.carroll@anu.edu.au',\n",
              " 'mailto:ashley.carruthers@anu.edu.au',\n",
              " 'mailto:Burcu.Cevik-Compiegne@anu.edu.au',\n",
              " 'mailto:Svitlana.Chernykh@anu.edu.au',\n",
              " 'mailto:Christina.clarke@anu.edu.au',\n",
              " 'mailto:rebecca.clode@anu.edu.au',\n",
              " 'mailto:externalrelations.cass@anu.edu.au',\n",
              " 'mailto:web.cass@anu.edu.au',\n",
              " 'mailto:ashok.collins@anu.edu.au',\n",
              " 'mailto:tania.colwell@anu.edu.au',\n",
              " 'mailto:alexander.cook@anu.edu.au',\n",
              " 'mailto:brenda.croft@anu.edu.au',\n",
              " 'mailto:ailen.cruz@anu.edu.au',\n",
              " 'mailto:garrett.cullity@anu.edu.au',\n",
              " 'mailto:kim.cunio@anu.edu.au',\n",
              " 'mailto:Caillan.Davenport@anu.edu.au',\n",
              " 'mailto:scott.davie@anu.edu.au',\n",
              " 'mailto:jennifer.davis@anu.edu.au',\n",
              " 'mailto:mark.dawson@anu.edu.au',\n",
              " 'mailto:Elisa.DeCourcy@anu.edu.au',\n",
              " 'mailto:Elisa.DeCourcy@anu.edu.au',\n",
              " 'mailto:manuel.delicado@anu.edu.au',\n",
              " 'mailto:externalrelations.cass@anu.edu.au',\n",
              " 'mailto:web.cass@anu.edu.au',\n",
              " 'mailto:alexandra.dellios@anu.edu.au',\n",
              " 'mailto:tim.denham@anu.edu.au',\n",
              " 'mailto:simone.dennis@anu.edu.au',\n",
              " 'mailto:Yonatan.Dinku@anu.edu.au',\n",
              " 'mailto:sean.dockray@anu.edu.au',\n",
              " 'mailto:Keith.Dowding@anu.edu.au',\n",
              " 'mailto:phil.dowe@anu.edu.au',\n",
              " 'mailto:Patrick.Dumont@anu.edu.au',\n",
              " 'mailto:anna.edmundson@anu.edu.au',\n",
              " 'mailto:helen.ennis@anu.edu.au',\n",
              " 'mailto:ashley.eriksmoen@anu.edu.au',\n",
              " 'mailto:Ann.Evans@anu.edu.au',\n",
              " 'mailto:Tracy.Fenwick@anu.edu.au',\n",
              " 'mailto:externalrelations.cass@anu.edu.au',\n",
              " 'mailto:web.cass@anu.edu.au',\n",
              " 'mailto:cressida.fforde@anu.edu.au',\n",
              " 'mailto:bronwyn.finnigan@anu.edu.au',\n",
              " 'mailto: kate.flaherty@anu.edu.au',\n",
              " 'mailto:bill.fogarty@anu.edu.au',\n",
              " 'mailto:karen.fox@anu.edu.au',\n",
              " 'mailto:Rae.Frances@anu.edu.au',\n",
              " 'mailto:Richard.Frank@anu.edu.au',\n",
              " 'mailto:catherine.frieman@anu.edu.au',\n",
              " 'mailto:samuel.furphy@anu.edu.au',\n",
              " 'mailto:maureen.gallagher@anu.edu.au',\n",
              " 'mailto:charlotte.galloway@anu.edu.au',\n",
              " 'mailto:brian.garrett@anu.edu.au',\n",
              " 'mailto:Ksenia.Gnevsheva@anu.edu.au',\n",
              " 'mailto:Ben.Goldsmith@anu.edu.au',\n",
              " 'mailto:externalrelations.cass@anu.edu.au',\n",
              " 'mailto:web.cass@anu.edu.au',\n",
              " 'mailto:Bob.Goodin@anu.edu.au',\n",
              " 'mailto:Katrina.Grant@anu.edu.au',\n",
              " 'mailto:matthew.gray@anu.edu.au',\n",
              " 'mailto:edith.gray@anu.edu.au',\n",
              " 'mailto:alastair.greig@anu.edu.au',\n",
              " 'mailto:tom.griffiths@anu.edu.au',\n",
              " 'mailto:qing.guan@anu.edu.au',\n",
              " 'mailto:patrick.guinness@anu.edu.au',\n",
              " 'mailto:royston.gustavson@anu.edu.au',\n",
              " 'mailto:Darren.Halpin@anu.edu.au',\n",
              " 'mailto:maya.haviland@anu.edu.au',\n",
              " 'mailto:Naomi.Hay@anu.edu.au',\n",
              " 'mailto:brian.hedden@anu.edu.au',\n",
              " 'mailto:jennifer.hendriks@anu.edu.au',\n",
              " 'mailto:externalrelations.cass@anu.edu.au',\n",
              " 'mailto:web.cass@anu.edu.au',\n",
              " 'mailto:ian.higgins@anu.edu.au',\n",
              " 'mailto:barry.higman@anu.edu.au',\n",
              " 'mailto:geoff.hinchcliffe@anu.edu.au',\n",
              " 'mailto:brian.houle@anu.edu.au',\n",
              " 'mailto:deirdre.howard-wagner@anu.edu.au',\n",
              " 'mailto:Hilary.Howes@anu.edu.au',\n",
              " 'mailto:Boyd.Hunter@anu.edu.au',\n",
              " 'mailto:alexander.hunter@anu.edu.au',\n",
              " 'mailto:Kim.Huynh@anu.edu.au',\n",
              " 'mailto:maria.hynes@anu.edu.au',\n",
              " 'mailto:Solene.Inceoglu@anu.edu.au',\n",
              " 'mailto:Anas.Iqtait@anu.edu.au',\n",
              " 'mailto:lucy.irvine@anu.edu.au',\n",
              " 'mailto:frank.jackson@anu.edu.au',\n",
              " 'mailto:externalrelations.cass@anu.edu.au',\n",
              " 'mailto:web.cass@anu.edu.au',\n",
              " 'mailto:maria.jahromi@anu.edu.au',\n",
              " 'mailto:pat.jalland@anu.edu.au',\n",
              " 'mailto:fiona.jenkins@anu.edu.au',\n",
              " 'mailto:martyn.jolly@anu.edu.au',\n",
              " 'mailto:Paul.Jones@anu.edu.au',\n",
              " 'mailto:Michael.Jones@anu.edu.au',\n",
              " 'mailto:anna-sophie.jurgens@anu.edu.au',\n",
              " 'mailto:helen.keane@anu.edu.au',\n",
              " 'mailto:Lindsay.Kelley@anu.edu.au',\n",
              " 'mailto:rosanne.kennedy@anu.edu.au',\n",
              " 'mailto:Mark.Kenny@anu.edu.au',\n",
              " 'mailto:Matthew.Kerby@anu.edu.au',\n",
              " 'mailto:patrick.kilby@anu.edu.au',\n",
              " 'mailto:david.kim@anu.edu.au',\n",
              " 'mailto:externalrelations.cass@anu.edu.au',\n",
              " 'mailto:web.cass@anu.edu.au',\n",
              " 'mailto:Dongwook.Kim@anu.edu.au',\n",
              " 'mailto:Gemma.King@anu.edu.au',\n",
              " 'mailto:colin.klein@anu.edu.au',\n",
              " 'mailto:Leila.Kouatly@anu.edu.au',\n",
              " 'mailto:U6617043@anu.edu.au',\n",
              " 'mailto:geoff.kushnick@anu.edu.au',\n",
              " 'mailto:Karima.Laachir@anu.edu.au',\n",
              " 'mailto:Julie.Lahn@anu.edu.au',\n",
              " 'mailto:julieanne.lamond@anu.edu.au',\n",
              " 'mailto:kenneth.lampl@anu.edu.au',\n",
              " 'mailto:amanda.laugesen@anu.edu.au',\n",
              " 'mailto:seth.lazar@anu.edu.au',\n",
              " 'mailto:mlegrand@iinet.net.au',\n",
              " 'mailto:mathieu.leclerc@anu.edu.au',\n",
              " 'mailto:externalrelations.cass@anu.edu.au',\n",
              " 'mailto:web.cass@anu.edu.au',\n",
              " 'mailto:Patrick.Leslie@anu.edu.au',\n",
              " 'mailto:Wesley.Lim@anu.edu.au',\n",
              " 'mailto:Darren.Lim@anu.edu.au',\n",
              " 'mailto:melissa.lovell@anu.edu.au',\n",
              " 'mailto:Adrian.Mackenzie@anu.edu.au',\n",
              " 'mailto:john.mackey@anu.edu.au',\n",
              " 'mailto:susy.macqueen@anu.edu.au',\n",
              " 'mailto:Maria.Maley@anu.edu.au',\n",
              " 'mailto:Francis.Markham@anu.edu.au',\n",
              " 'mailto:rebecca.mayo@anu.edu.au',\n",
              " 'mailto:Ian.McAllister@anu.edu.au',\n",
              " 'mailto:christopher.mcauliffe@anu.edu.au',\n",
              " 'mailto:Bree.McConnell@anu.edu.au',\n",
              " 'mailto:steven.mceachern@anu.edu.au',\n",
              " 'mailto:externalrelations.cass@anu.edu.au',\n",
              " 'mailto:web.cass@anu.edu.au',\n",
              " 'mailto:Clare.McFadden@anu.edu.au',\n",
              " 'mailto:vmcgeer@princeton.edu',\n",
              " 'mailto:ann.mcgrath@anu.edu.au',\n",
              " 'mailto:nicole.mclennan@anu.edu.au',\n",
              " 'mailto:Anne.Mcnaughton@anu.edu.au',\n",
              " 'mailto:ben.mercer@anu.edu.au',\n",
              " 'mailto:francesca.merlan@anu.edu.au',\n",
              " 'mailto:kylie.message@anu.edu.au',\n",
              " 'mailto:Charles.Miller@anu.edu.au',\n",
              " 'mailto:John.Minns@anu.edu.au',\n",
              " 'mailto:kate.mitchell@anu.edu.au',\n",
              " 'mailto:sverre.molland@anu.edu.au',\n",
              " 'mailto:guillaume.molle@anu.edu.au',\n",
              " 'mailto:ruth.morgan@anu.edu.au',\n",
              " 'mailto:externalrelations.cass@anu.edu.au',\n",
              " 'mailto:web.cass@anu.edu.au',\n",
              " 'mailto:Jessie.Moritz@anu.edu.au',\n",
              " 'mailto:Howard.Morphy@anu.edu.au',\n",
              " 'mailto:Jos.Mulder@anu.edu.au',\n",
              " 'mailto:Yasmine.Musharbash@anu.edu.au',\n",
              " 'mailto:Thiago.Silva@anu.edu.au',\n",
              " 'mailto:lucy.neave@anu.edu.au',\n",
              " 'mailto:q.nguyen@anu.edu.au',\n",
              " 'mailto:melanie.nolan@anu.edu.au',\n",
              " 'mailto:Andrew.Norton@anu.edu.au ',\n",
              " 'mailto:Kirill.Nourzhanov@anu.edu.au',\n",
              " 'mailto:maria.nugent@anu.edu.au',\n",
              " 'mailto:Terhi.Nurmikko-Fuller@anu.edu.au',\n",
              " \"mailto:Mathieu.O'neil@canberra.edu.au\",\n",
              " 'mailto:externalrelations.cass@anu.edu.au',\n",
              " 'mailto:web.cass@anu.edu.au',\n",
              " 'mailto:dougald.oreilly@anu.edu.au',\n",
              " \"mailto:Carmel.O'Shannessy@anu.edu.au\",\n",
              " 'mailto:raquel.ormella@anu.edu.au',\n",
              " 'mailto:marc.oxenham@anu.edu.au',\n",
              " 'mailto:baden.pailthorpe@anu.edu.au',\n",
              " 'mailto:ross.pain@anu.edu.au',\n",
              " 'mailto:Patsy.payne@anu.edu.au',\n",
              " 'mailto:collin.payne@anu.edu.au',\n",
              " 'mailto:Rebecca.Pearse@anu.edu.au',\n",
              " 'mailto:Sonia.Pertsinidis@anu.edu.au',\n",
              " 'mailto:Philip.Pettit@anu.edu.au',\n",
              " 'mailto:ben.phillips@anu.edu.au',\n",
              " 'mailto: paul.pickering@anu.edu.au',\n",
              " 'mailto:paul.pickering@anu.edu.au',\n",
              " 'mailto:externalrelations.cass@anu.edu.au',\n",
              " 'mailto:web.cass@anu.edu.au',\n",
              " 'mailto:philip.piper@anu.edu.au',\n",
              " 'mailto:naomi.priest@anu.edu.au',\n",
              " 'mailto:carroll.pursell@anu.edu.au',\n",
              " 'mailto:laura.rademaker@anu.edu.au',\n",
              " 'mailto:marylou.rasmussen@anu.edu.au',\n",
              " 'mailto:anna.raupach@anu.edu.au',\n",
              " 'mailto:james.raymer@anu.edu.au',\n",
              " 'mailto:John.Reid@anu.edu.au',\n",
              " 'mailto:gilbert.riedelbauch@gmail.com',\n",
              " 'mailto:celia.roberts@anu.edu.au',\n",
              " 'mailto:Zoe.Robinson@anu.edu.au',\n",
              " 'mailto:mike.roettger@anu.edu.au',\n",
              " 'mailto:monique.rooney@anu.edu.au',\n",
              " 'mailto:lawrence.saha@anu.edu.au',\n",
              " 'mailto:externalrelations.cass@anu.edu.au',\n",
              " 'mailto:web.cass@anu.edu.au',\n",
              " 'mailto:Alam.Saleh@anu.edu.au',\n",
              " 'mailto:chaitanya.sambrani@anu.edu.au',\n",
              " 'mailto:Jeffrey.Sarmiento@anu.edu.au',\n",
              " 'mailto:Marian.Sawer@anu.edu.au',\n",
              " 'mailto:caroline.schuster@anu.edu.au',\n",
              " 'mailto:caroline.schuster@anu.edu.au',\n",
              " 'mailto:nick.j.schuster@anu.edu.au',\n",
              " 'mailto:sarah.scott@anu.edu.au',\n",
              " 'mailto:erica.seccombe@anu.edu.au',\n",
              " 'mailto:sriram.shankar@anu.edu.au',\n",
              " 'mailto:Jill.Sheppard@anu.edu.au',\n",
              " 'mailto:joanna.sikora@anu.edu.au',\n",
              " 'mailto:Ben.Silverstein@anu.edu.au',\n",
              " 'mailto:jane.simpson@anu.edu.au',\n",
              " 'mailto:externalrelations.cass@anu.edu.au',\n",
              " 'mailto:web.cass@anu.edu.au',\n",
              " 'mailto:Diana.Slade@anu.edu.au',\n",
              " 'mailto:katrina.sluis@anu.edu.au',\n",
              " 'mailto: russell.smith@anu.edu.au',\n",
              " 'mailto:gavin.smith@anu.edu.au',\n",
              " 'mailto:Laurajane.Smith@anu.edu.au',\n",
              " 'mailto: rosalind.smith@anu.edu.au',\n",
              " 'mailto:bruce.smyth@anu.edu.au',\n",
              " 'mailto:nicholas.southwood@anu.edu.au',\n",
              " 'mailto:Matthew.Spriggs@anu.edu.au',\n",
              " 'mailto:katie.steele@anu.edu.au ',\n",
              " 'mailto:kim.sterelny@anu.edu.au',\n",
              " 'mailto:daniel.stoljar@anu.edu.au',\n",
              " 'mailto:carolyn.strange@anu.edu.au',\n",
              " 'mailto:amanda.stuart@anu.edu.au',\n",
              " 'mailto:externalrelations.cass@anu.edu.au',\n",
              " 'mailto:web.cass@anu.edu.au',\n",
              " 'mailto:katie.sutton@anu.edu.au',\n",
              " 'mailto:Natasha.Szuhan@anu.edu.au',\n",
              " 'mailto:tx.ta@anu.edu.au',\n",
              " 'mailto:Marija.Taflaga@anu.edu.au',\n",
              " 'mailto:Zahra.Taheri@anu.edu.au',\n",
              " 'mailto:koji.tanaka@anu.edu.au',\n",
              " 'mailto:m.thomas@anu.edu.au',\n",
              " 'mailto:annick.thomassin@anu.edu.au',\n",
              " 'mailto:rachael.thoms@anu.edu.au',\n",
              " 'mailto:fabricio.tocco@anu.edu.au',\n",
              " 'mailto:fouzieyha.towghi@anu.edu.au',\n",
              " 'mailto:catherine.travis@anu.edu.au',\n",
              " 'mailto:Shawn.Treier@anu.edu.au',\n",
              " 'mailto:John.Uhr@anu.edu.au',\n",
              " 'mailto:externalrelations.cass@anu.edu.au',\n",
              " 'mailto:web.cass@anu.edu.au',\n",
              " 'mailto:pia.vangelder@anu.edu.au',\n",
              " 'mailto:Jana.Vonstein@anu.edu.au',\n",
              " 'mailto:director.rsss@anu.edu.au',\n",
              " 'mailto:ruth.waller@anu.edu.au',\n",
              " 'mailto:corinne.walsh@anu.edu.au',\n",
              " 'mailto:Stacey.Ward@anu.edu.au',\n",
              " 'mailto:kate.warren@anu.edu.au',\n",
              " 'mailto:millicent.weber@anu.edu.au',\n",
              " 'mailto:annika.werner@anu.edu.au',\n",
              " 'mailto:mitchell.whitelaw@anu.edu.au',\n",
              " 'mailto:stephen.wilks@anu.edu.au',\n",
              " 'mailto:Kasia.Williams@anu.edu.au',\n",
              " 'mailto:Laura.Wilson@anu.edu.au',\n",
              " 'mailto:Matt.Withers@anu.edu.au',\n",
              " 'mailto:externalrelations.cass@anu.edu.au',\n",
              " 'mailto:web.cass@anu.edu.au']"
            ]
          },
          "metadata": {},
          "execution_count": 8
        }
      ]
    },
    {
      "cell_type": "code",
      "source": [
        "# University of canberra \n",
        "\n",
        "# business school law \n",
        "\n",
        "uc_bs_emails = []\n",
        "uc_bs_names  = []\n",
        "\n",
        "url_uc_bs = 'https://www.canberra.edu.au/about-uc/faculties/busgovlaw/our-people'\n",
        "\n",
        "page = read_url(url_uc_bs) \n",
        "\n",
        "s_tags = page.findAll('strong')\n",
        "\n",
        "for s_tag in s_tags:\n",
        "  uc_bs_names.append(s_tag.text)\n",
        "\n",
        "  a_tag = s_tag.find_next('a')\n",
        "  if 'mailto:' in a_tag['href']:\n",
        "    uc_bs_emails.append(a_tag.text)\n",
        "\n",
        "uc_bs_emails = [email.replace(\"\\xa0\", \"\") for email in uc_bs_emails]\n",
        "\n",
        "for email in uc_bs_emails:\n",
        "  academic_emails.append(email)"
      ],
      "metadata": {
        "id": "_Y6SwexxENRf"
      },
      "execution_count": null,
      "outputs": []
    },
    {
      "cell_type": "code",
      "source": [
        "uc_bs_emails"
      ],
      "metadata": {
        "colab": {
          "base_uri": "https://localhost:8080/"
        },
        "id": "35ia8kSeDopW",
        "outputId": "df9f17b2-065f-427e-8f9a-96ecc4cf08a8"
      },
      "execution_count": null,
      "outputs": [
        {
          "output_type": "execute_result",
          "data": {
            "text/plain": [
              "['DeanBGL@canberra.edu.au',\n",
              " 'Linda.Botterill@canberra.edu.au\\xa0',\n",
              " 'Naomi.Dale@canberra.edu.au',\n",
              " 'Josh.Fear@canberra.edu.au',\n",
              " 'Ben.Freyens@canberra.edu.au',\n",
              " 'Alison.Gerard@canberra.edu.au\\xa0',\n",
              " 'Simon.Hoy@canberra.edu.au',\n",
              " 'Brent.Jackson@canberra.edu.au',\n",
              " 'Jennifer.Loh@canberra.edu.au',\n",
              " 'Simon.Niemeyer@canberra.edu.au',\n",
              " 'Susan.Priest@canberra.edu.au',\n",
              " 'Rob.Rigby@canberra.edu.au\\xa0',\n",
              " 'Kim.Rubenstein@canberra.edu.au',\n",
              " 'Maree.Sainsbury@canberra.edu.au',\n",
              " 'Darren.Sinclair@canberra.edu.au',\n",
              " 'Mary.Walsh@canberra.edu.au',\n",
              " 'Maree.Sainsbury@canberra.edu.au',\n",
              " 'Marjan.Aslan@canberra.edu.au',\n",
              " 'Greg.Boland@canberra.edu.au',\n",
              " 'David.Carter@canberra.edu.au\\xa0',\n",
              " 'Tom.Chen@canberra.edu.au\\xa0',\n",
              " 'Naomi.Dale@canberra.edu.au',\n",
              " 'Tracey.Dickson@canberra.edu.au',\n",
              " 'Jane.Diedricks@canberra.edu.au',\n",
              " 'Johra.Fatima@canberra.edu.au',\n",
              " 'Peter.Graham@canberra.edu.au',\n",
              " 'Simon.Hoy@canberra.edu.au',\n",
              " 'Richard.Hu@canberra.edu.au',\n",
              " 'Doug.Jackman@canberra.edu.au',\n",
              " 'Doug.Jackman@canberra.edu.au',\n",
              " 'Brent.Jackson@canberra.edu.au',\n",
              " 'Raechel.Johns@canberra.edu.au',\n",
              " 'SarvjeetKaur.Chatrath@canberra.edu.au',\n",
              " 'Habib.Khan@canberra.edu.au',\n",
              " 'Irfan.Khan@canberra.edu.au',\n",
              " 'Katie.Ley@canberra.edu.au',\n",
              " 'Jennifer.Loh@canberra.edu.au',\n",
              " 'Monir.Mir@canberra.edu.au',\n",
              " 'Abu.Mollik@canberra.edu.au',\n",
              " 'Diane.Phillips@canberra.edu.au',\n",
              " 'Abu.Saleh@canberra.edu.au',\n",
              " 'Milind.Sathye@canberra.edu.au',\n",
              " 'Majharul.Talukder@canberra.edu.au',\n",
              " 'Angela.Tan-Kantor@canberra.edu.au',\n",
              " 'Barbara.Voss@canberra.edu.au',\n",
              " 'Brian.Weir@canberra.edu.au',\n",
              " 'Bomikazi.Zeka@canberra.edu.au',\n",
              " 'Alison.Gerard@canberra.edu.au',\n",
              " 'Bruce.Arnold@canberra.edu.au',\n",
              " 'Doris.Bozin@canberra.edu.au',\n",
              " 'Cristy.Clark@canberra.edu.au',\n",
              " 'Ivana.Damjanovic@canberra.edu.au',\n",
              " 'Juan.Diaz-Granados@canberra.edu.au',\n",
              " 'Jane.Diedricks@canberra.edu.au',\n",
              " 'Sascha.Bachmann@canberra.edu.au',\n",
              " 'Erina.Fletcher@canberra.edu.au\\xa0',\n",
              " 'Jenny.Fu@canberra.edu.au',\n",
              " 'Carole.Grey@canberra.edu.au',\n",
              " 'Janet.Hope@canberra.edu.au',\n",
              " 'Tony.Krone@canberra.edu.au',\n",
              " 'Carli.Kulmar@canberra.edu.au\\xa0',\n",
              " 'Alison.McLennan@canberra.edu.au',\n",
              " 'Geoff.Nicoll@canberra.edu.au',\n",
              " 'Susan.Priest@canberra.edu.au',\n",
              " 'Kim.Rubenstein@canberra.edu.au',\n",
              " 'Trevor.O.Ryan@canberra.edu.au',\n",
              " 'Maree.Sainsbury@canberra.edu.au',\n",
              " 'Benedict.Sheehy@canberra.edu.au',\n",
              " 'Fanny.Thornton@canberra.edu.au',\n",
              " 'Leanne.Weber@canberra.edu.au',\n",
              " 'SchoPESHOS@canberra.edu.au',\n",
              " 'Craig.Applegate@canberra.edu.au\\xa0',\n",
              " 'Shuhrat.Baratov@canberra.edu.au\\xa0',\n",
              " 'Heba.Batainah@canberra.edu.au',\n",
              " 'Linda.Botterill@canberra.edu.au',\n",
              " 'Michael.DePercy@canberra.edu.au',\n",
              " 'Jean-Paul@canberra.edu.au',\n",
              " 'Tesfaye.Gebremedhin@canberra.edu.au',\n",
              " 'Xiaodong.Gong@canberra.edu.au',\n",
              " 'John.Hawkins@canberra.edu.au',\n",
              " 'Peter.Leahy@canberra.edu.au',\n",
              " 'Raymond.Li@canberra.edu.au',\n",
              " 'Sarah.Maslen@canberra.edu.au\\xa0',\n",
              " 'Riyana.Miranti@canberra.edu.au',\n",
              " 'Jonathan.Pickering@canberra.edu.au',\n",
              " 'Mary.Walsh@canberra.edu.au',\n",
              " 'Michael.Walsh@canberra.edu.au',\n",
              " 'Sarah.Yu@canberra.edu.au',\n",
              " 'Hans.Asenbaum@canberra.edu.au\\xa0',\n",
              " 'Nicole.Curato@canberra.edu.au',\n",
              " 'Lain.Dare@canberra.edu.au',\n",
              " 'John.Dryzek@canberra.edu.au',\n",
              " 'Selen.Ercan@canberra.edu.au',\n",
              " 'Josh.Fear@canberra.edu.au',\n",
              " 'Ginger.Gorman@canberra.edu.au\\xa0',\n",
              " 'Michelle.Grattan@canberra.edu.au',\n",
              " 'Vanessa.Gstrein@canberra.edu.au',\n",
              " 'Max.Halupka@canberra.edu.au',\n",
              " 'Michael.Jensen@canberra.edu.au',\n",
              " 'Amy.Kilpatrick@canberra.edu.au\\xa0',\n",
              " 'Jinjing.Li@canberra.edu.au',\n",
              " 'Brendan.McCaffrie@canberra.edu.au',\n",
              " 'Jordan.McSwiney@canberra.edu.au',\n",
              " 'Simon.Niemeyer@canberra.edu.au',\n",
              " 'Leonie.Pearson@canberra.edu.au\\xa0',\n",
              " 'Dominic.Peel@canberra.edu.au',\n",
              " 'Pia.Rowe@canberra.edu.au',\n",
              " 'Kim.Rubenstein@canberra.edu.au',\n",
              " 'Darren.Sinclair@canberra.edu.au',\n",
              " 'Robert.Tanton@canberra.edu.au',\n",
              " 'Francesco.Veri@canberra.edu.au\\xa0',\n",
              " 'Yogi.Vidyattama@canberra.edu.au',\n",
              " 'Nick.Vlahos@canberra.edu.au',\n",
              " 'Chris.Wallace@canberra.edu.au']"
            ]
          },
          "metadata": {},
          "execution_count": 11
        }
      ]
    },
    {
      "cell_type": "code",
      "source": [
        "# wollongong\n",
        "\n",
        "# business school\n",
        "\n",
        "uow_names  = []\n",
        "uow_pages  = []\n",
        "uow_emails = []\n",
        "\n",
        "url_uow_bs = 'https://www.uow.edu.au/business-law/schools-entities/business/our-people/'\n",
        "\n",
        "page = read_url(url_uow_bs)\n",
        "\n",
        "a_tags = page.findAll('a')\n",
        "\n",
        "for a_tag in a_tags:\n",
        "  if 'https://scholars.uow.edu.au/display/' in a_tag['href']:\n",
        "    uow_pages.append(a_tag['href'])\n",
        "    uow_names.append(a_tag.text)\n",
        "\n",
        "for page in uow_pages:\n",
        "  academic_page = read_url(page)\n",
        "  a_tags = academic_page.findAll('a', {'class':'email'})\n",
        "  for a_tag in a_tags:\n",
        "    uow_emails.append(a_tag.text) \n"
      ],
      "metadata": {
        "id": "sgOXMA49KqtA"
      },
      "execution_count": null,
      "outputs": []
    },
    {
      "cell_type": "code",
      "source": [
        "# uow_emails\n",
        "\n",
        "for email in uow_emails:\n",
        "  academic_emails.append(email)"
      ],
      "metadata": {
        "id": "bjgh4ypKEGID"
      },
      "execution_count": null,
      "outputs": []
    },
    {
      "cell_type": "code",
      "source": [
        "# ACU\n",
        "\n",
        "# social sciences\n",
        "\n",
        "acu_names  = []\n",
        "acu_pages  = []\n",
        "acu_emails = []\n",
        "\n",
        "url_acu = 'https://www.acu.edu.au/research-and-enterprise/our-research-institutes/institute-for-humanities-and-social-sciences/our-people'\n",
        "\n",
        "page = read_url(url_acu)\n",
        "\n",
        "h_tags = page.findAll('h4')\n",
        "\n",
        "for h_tag in h_tags:\n",
        "  acu_names.append(h_tag.text)\n",
        "  \n",
        "a_tags = page.findAll('a')\n",
        "\n",
        "for a_tag in a_tags:\n",
        "  if '/research-and-enterprise/our-research-institutes/institute-for-humanities-and-social-sciences/our-people/' in a_tag['href']:\n",
        "    acu_pages.append('https://www.acu.edu.au'+a_tag['href'])\n",
        "\n",
        "for page in acu_pages:\n",
        "  academic_page = read_url(page)\n",
        "  a_tags = academic_page.findAll('a')\n",
        "\n",
        "  for a_tag in a_tags:\n",
        "    if 'mailto:' in a_tag['href']:\n",
        "      if'ihss' not in a_tag['href']:\n",
        "        acu_emails.append(a_tag.text)\n",
        "\n",
        "acu_emails = [email.replace(\"\\n\", \"\") for email in acu_emails]\n"
      ],
      "metadata": {
        "id": "VyaZfNtnN92O"
      },
      "execution_count": null,
      "outputs": []
    },
    {
      "cell_type": "code",
      "source": [
        "\n",
        "\n",
        "for email in acu_emails:\n",
        "  academic_emails.append(email)"
      ],
      "metadata": {
        "id": "WsbM8-sAHrYX"
      },
      "execution_count": null,
      "outputs": []
    },
    {
      "cell_type": "code",
      "source": [
        "# Macquarie \n",
        "\n",
        "mq_names  = []\n",
        "mq_pages  = []\n",
        "mq_emails = []\n",
        "\n",
        "url_mq = 'https://researchers.mq.edu.au/en/organisations/department-of-economics/persons/'\n",
        "\n",
        "page = read_url(url_mq)\n",
        "\n",
        "a_tags = page.findAll('a', {'rel':'Person'})\n",
        "\n",
        "for a_tag in a_tags:\n",
        "  mq_names.append(a_tag.text)\n",
        "  mq_pages.append(a_tag['href'])\n",
        "\n",
        "a_tags = page.findAll('a', {'class':'email'})\n",
        "\n",
        "for a_tag in a_tags:\n",
        "  if 'hdr' not in a_tag.text:\n",
        "    mq_emails.append(a_tag.text)\n",
        "\n",
        "mq_emails = [e.replace('encryptedA();', '@') for e in mq_emails]\n",
        "mq_emails = [e.replace('encryptedDot();', '.') for e in mq_emails]\n",
        "\n",
        "for email in mq_emails:\n",
        "  academic_emails.append(email)\n",
        "  "
      ],
      "metadata": {
        "id": "w1PozQFcU8XD"
      },
      "execution_count": null,
      "outputs": []
    },
    {
      "cell_type": "code",
      "source": [
        "# Deakin \n",
        "\n",
        "# Economics\n",
        "\n",
        "deakin_econ_emails = []\n",
        "deakin_econ_pages = []\n",
        "deakin_econ_names = []\n",
        "\n",
        "\n",
        "url_deakin_econ = 'https://www.deakin.edu.au/business/department-of-economics/staff-listing'\n",
        "\n",
        "page = read_url(url_deakin_econ)\n",
        "\n",
        "a_tags = page.findAll('a')\n",
        "\n",
        "for a_tag in a_tags:\n",
        "  if 'https://www.deakin.edu.au/about-deakin/people/' in a_tag['href']:\n",
        "    deakin_econ_pages.append(a_tag['href'])\n",
        "    deakin_econ_names.append(a_tag.text)\n",
        "\n",
        "for academic_page in deakin_econ_pages:\n",
        "  page = read_url(academic_page)\n",
        "  a_tags = page.findAll('a')\n",
        "\n",
        "  for a_tag in a_tags:\n",
        "\n",
        "    if 'mailto:' in a_tag['href']:\n",
        "        deakin_econ_emails.append(a_tag.text)\n",
        "        \n",
        "for email in deakin_econ_emails:\n",
        "  academic_emails.append(email)"
      ],
      "metadata": {
        "colab": {
          "base_uri": "https://localhost:8080/"
        },
        "id": "n-xL1jML_7Fh",
        "outputId": "1c496544-20b2-431e-de04-dfe465ed206d"
      },
      "execution_count": null,
      "outputs": [
        {
          "output_type": "stream",
          "name": "stderr",
          "text": [
            "WARNING:bs4.dammit:Some characters could not be decoded, and were replaced with REPLACEMENT CHARACTER.\n",
            "WARNING:bs4.dammit:Some characters could not be decoded, and were replaced with REPLACEMENT CHARACTER.\n"
          ]
        }
      ]
    },
    {
      "cell_type": "code",
      "source": [
        "# Deakin\n",
        "\n",
        "# School of humanities and social sciences\n",
        "\n",
        "deakin_shss_emails = []\n",
        "deakin_shss_pages  = []\n",
        "deakin_shss_names  = []\n",
        "\n",
        "url_deakin_shss = 'https://www.deakin.edu.au/humanities-social-sciences/staff-listing'\n",
        "\n",
        "page = read_url(url_deakin_shss)\n",
        "\n",
        "a_tags = page.findAll('a')\n",
        "\n",
        "for a_tag in a_tags:\n",
        "  if 'https://www.deakin.edu.au/about-deakin/people/' in a_tag['href']:\n",
        "    deakin_shss_pages.append(a_tag['href'])\n",
        "    deakin_shss_names.append(a_tag.text)\n",
        "\n",
        "for academic_page in deakin_shss_pages:\n",
        "  page = read_url(academic_page)\n",
        "  a_tags = page.findAll('a')\n",
        "\n",
        "  for a_tag in a_tags:\n",
        "    if 'mailto:' in a_tag['href']:\n",
        "      deakin_shss_emails.append(a_tag.text)"
      ],
      "metadata": {
        "colab": {
          "base_uri": "https://localhost:8080/"
        },
        "id": "Kv26rCgEAmIb",
        "outputId": "39b87dfc-932e-488d-c8c6-0f277ca82753"
      },
      "execution_count": null,
      "outputs": [
        {
          "output_type": "stream",
          "name": "stderr",
          "text": [
            "WARNING:bs4.dammit:Some characters could not be decoded, and were replaced with REPLACEMENT CHARACTER.\n"
          ]
        }
      ]
    },
    {
      "cell_type": "code",
      "source": [
        "for email in deakin_shss_emails:\n",
        "  academic_emails.append(email)"
      ],
      "metadata": {
        "id": "rM998wntNej2"
      },
      "execution_count": null,
      "outputs": []
    },
    {
      "cell_type": "code",
      "source": [
        "# RMIT\n",
        "\n",
        "# Economics, finance, marketing\n",
        "\n",
        "rmit_econ_emails = []\n",
        "rmit_econ_pages = []\n",
        "rmit_econ_names = []\n",
        "\n",
        "url_rmit_econ = 'https://www.rmit.edu.au/about/schools-colleges/economics-finance-and-marketing/people'\n",
        "\n",
        "page = read_url(url_rmit_econ)\n",
        "\n",
        "a_tags = page.findAll('a')\n",
        "\n",
        "for a_tag in a_tags:\n",
        "  if '/content/rmit/au/en/contact/staff-contacts/' in a_tag['href'] or '/content/rmit-ui/en/contact/staff-contacts/' in a_tag['href']:\n",
        "    rmit_econ_pages.append('https://www.rmit.edu.au'+a_tag['href'])\n",
        "    rmit_econ_names.append(a_tag.text)\n",
        "\n",
        "for page in rmit_econ_pages:\n",
        "  academic_page = read_url(page)\n",
        "  a_tags = academic_page.findAll('a')\n",
        "\n",
        "  for a_tag in a_tags:\n",
        "    if '@rmit.edu.au' in a_tag.text:\n",
        "      if 'touch' not in a_tag.text:\n",
        "        rmit_econ_emails.append(a_tag.text)\n"
      ],
      "metadata": {
        "id": "emEaTEdUBc7i"
      },
      "execution_count": null,
      "outputs": []
    },
    {
      "cell_type": "code",
      "source": [
        "for email in rmit_econ_emails:\n",
        "  academic_emails.append(email)"
      ],
      "metadata": {
        "id": "Tm68oqlGKsJ3"
      },
      "execution_count": null,
      "outputs": []
    },
    {
      "cell_type": "code",
      "source": [
        "# RMIT\n",
        "\n",
        "# Public Policy \n",
        "\n",
        "rmit_policy_emails = []\n",
        "rmit_policy_pages = []\n",
        "rmit_policy_names = []\n",
        "\n",
        "url_rmit_policy = 'https://www.rmit.edu.au/about/schools-colleges/global-urban-and-social-studies/people/policy-practice-and-social-innovation-people'\n",
        "\n",
        "page = read_url(url_rmit_policy)\n",
        "\n",
        "a_tags = page.findAll('a')\n",
        "\n",
        "for a_tag in a_tags:\n",
        "  if '/content/rmit-ui/en/contact/staff-contacts/academic-staff' in a_tag['href']:\n",
        "    rmit_policy_pages.append('https://www.rmit.edu.au'+a_tag['href'])\n",
        "    rmit_policy_names.append(a_tag.text)\n",
        "\n",
        "for page in rmit_policy_pages:\n",
        "  try:\n",
        "    academic_page = read_url(page)\n",
        "    a_tags = academic_page.findAll('a')\n",
        "  except:\n",
        "    pass\n",
        "\n",
        "  for a_tag in a_tags:\n",
        "    if '@rmit.edu.au' in a_tag.text:\n",
        "      if 'touch' not in a_tag.text:\n",
        "        rmit_policy_emails.append(a_tag.text)\n"
      ],
      "metadata": {
        "id": "vhCZDhlrBiDl"
      },
      "execution_count": null,
      "outputs": []
    },
    {
      "cell_type": "code",
      "source": [
        "for email in rmit_policy_emails:\n",
        "  academic_emails.append(email)"
      ],
      "metadata": {
        "id": "anlQ87PXK-hz"
      },
      "execution_count": null,
      "outputs": []
    },
    {
      "cell_type": "code",
      "source": [
        "# La Trobe \n",
        "\n",
        "# Econ, Accounting, Data Analytics, Finance\n",
        "\n",
        "la_trobe_bs_emails = []\n",
        "la_trobe_bs_names = []\n",
        "pages = [1,2]\n",
        "\n",
        "for number in pages:\n",
        "  url_la_trobe_bs = f'https://www.latrobe.edu.au/accounting-data-analytics-economics-and-finance/staff?page={number}'\n",
        "\n",
        "  page = read_url(url_la_trobe_bs)\n",
        "  t_tags = page.findAll('td')\n",
        "\n",
        "  for t_tag in t_tags:\n",
        "    if '@latrobe.edu.au' in t_tag.text:\n",
        "      la_trobe_bs_emails.append(t_tag.text)\n",
        "\n",
        "  a_tags = page.findAll('a')\n",
        "  for a_tag in a_tags:\n",
        "    if 'https://scholars.latrobe.edu.au/display/' in a_tag['href']:\n",
        "      la_trobe_bs_names.append(a_tag.text)\n",
        "\n",
        "la_trobe_bs_emails = [email.replace(\"\\n\", \"\") for email in la_trobe_bs_emails]\n",
        "la_trobe_bs_emails = [email.replace(\" \", \"\") for email in la_trobe_bs_emails]\n",
        "\n",
        "la_trobe_bs_names = [name.replace(\"\\n \", \"\") for name in la_trobe_bs_names]\n",
        "la_trobe_bs_names = [name.replace(\" \\n \", \"\") for name in la_trobe_bs_names]\n",
        "\n",
        "# for email in la_trobe_bs_emails:\n",
        "#   academic_emails.append(email)"
      ],
      "metadata": {
        "id": "rALQnWC1CKDx"
      },
      "execution_count": null,
      "outputs": []
    },
    {
      "cell_type": "code",
      "source": [
        "la_trobe_bs_names"
      ],
      "metadata": {
        "colab": {
          "base_uri": "https://localhost:8080/"
        },
        "id": "vyL6ajuMLXhL",
        "outputId": "eca1eab5-a14e-4da6-92fe-e2f20182580c"
      },
      "execution_count": null,
      "outputs": [
        {
          "output_type": "execute_result",
          "data": {
            "text/plain": [
              "['                                     Professor                                       Damminda Alahakoon                 ',\n",
              " '                                     Dr.                                       Muhammad Ali                 ',\n",
              " '                                     Dr.                                       Muhammad Al Mamun                 ',\n",
              " '                                     Dr.                                       Kate Ashman                 ',\n",
              " '                                      Ghasan Baghdadi                 ',\n",
              " '                                     Dr.                                       Buly Cardak                 ',\n",
              " '                                     Dr.                                       Mei-Tai Chu                 ',\n",
              " '                                     Dr.                                       Daswin De Silva                 ',\n",
              " '                                      Hung Quang Do                 ',\n",
              " '                                      John Harrison                 ',\n",
              " '                                     Professor                                       Darren Henry                 ',\n",
              " '                                     Dr.                                       Farzaneh Jalali                 ',\n",
              " '                                     Dr.                                       Shalinka Jayatilleke                 ',\n",
              " '                                     Dr.                                       Doureige Jurdi                 ',\n",
              " '                                     Dr.                                       Mingyi Li                 ',\n",
              " '                                     Dr.                                       Michael Li                 ',\n",
              " '                                     Dr.                                       Jan Libich                 ',\n",
              " '                                     Dr.                                       Mary Ma                 ',\n",
              " '                                     Dr.                                       Kate Mai                 ',\n",
              " '                                     Dr.                                       Julio Mancuso Tradenta                 ',\n",
              " '                                      Tony Martin                 ',\n",
              " '                                     Professor                                       Paul Mather                 ',\n",
              " '                                     Dr.                                       Lachlan McDonald-Kerr                 ',\n",
              " '                                     Professor                                       Kenneth McPhail                 ',\n",
              " '                                     Dr.                                       Seema Miglani                 ',\n",
              " '                                      Nishan Mills                 ',\n",
              " '                                     Dr.                                       Balachandran Muniandy                 ',\n",
              " '                                     Dr.                                       Su Nguyen                 ',\n",
              " '                                     Dr.                                       Esin Ozdil                 ',\n",
              " '                                     Dr.                                       Dinh Phan                 ',\n",
              " '                                     Dr.                                       Yuji Tamura                 ',\n",
              " '                                     Dr.                                       Binh Tran                 ',\n",
              " '                                     Dr.                                       Petrus Usmanij                 ',\n",
              " '                                     Dr.                                       Alireza Vafaei                 ',\n",
              " '                                     Dr.                                       David Walker                 ',\n",
              " '                                     Dr.                                       Emmanuelle Walkowiak                 ',\n",
              " '                                      Yujie Wang                 ',\n",
              " '                                     Dr.                                       Helen Yang                 ',\n",
              " '                                     Dr.                                       Jing Zhao                 ']"
            ]
          },
          "metadata": {},
          "execution_count": 81
        }
      ]
    },
    {
      "cell_type": "code",
      "source": [
        "# La Trobe \n",
        "\n",
        "# School of humanities and social sciences \n",
        "\n",
        "la_trobe_shss_emails = []\n",
        "la_trobe_shss_names = []\n",
        "\n",
        "pages = range(1,6)\n",
        "\n",
        "for number in pages:\n",
        "  url_la_trobe_shss = f'https://www.latrobe.edu.au/humanities/staff?page={number}'\n",
        "\n",
        "  page = read_url(url_la_trobe_shss)\n",
        "  t_tags = page.findAll('td')\n",
        "\n",
        "  for t_tag in t_tags:\n",
        "    if '@latrobe.edu.au' in t_tag.text:\n",
        "      la_trobe_shss_emails.append(t_tag.text)\n",
        "\n",
        "  a_tags = page.findAll('a')\n",
        "  for a_tag in a_tags:\n",
        "    if 'https://scholars.latrobe.edu.au/display/' in a_tag['href']:\n",
        "      la_trobe_shss_names.append(a_tag.text)\n",
        "\n",
        "la_trobe_shss_names = [name.replace(\"\\n \", \"\") for name in la_trobe_shss_names]\n",
        "la_trobe_shss_names = [name.replace(\" \\n \", \"\") for name in la_trobe_shss_names]"
      ],
      "metadata": {
        "id": "cNxAqdwzFcm2"
      },
      "execution_count": null,
      "outputs": []
    },
    {
      "cell_type": "code",
      "source": [
        "la_trobe_shss_names"
      ],
      "metadata": {
        "id": "4z-71Oefffbh",
        "outputId": "404df3da-46ed-4071-b7cc-4fbab853fb01",
        "colab": {
          "base_uri": "https://localhost:8080/"
        }
      },
      "execution_count": null,
      "outputs": [
        {
          "output_type": "execute_result",
          "data": {
            "text/plain": [
              "['                                     Professor                                       Nick Bisley                 ',\n",
              " '                                     Professor                                       Tonya Stebbins                 ',\n",
              " '                                     Professor                                       Andy Herries                 ',\n",
              " '                                     Professor                                       James Walker                 ',\n",
              " '                                     Dr.                                       James Cannon                 ',\n",
              " '                                     Dr.                                       Rhiannon Evans                 ',\n",
              " '                                     Dr.                                       Gregoria Manzin                 ',\n",
              " '                                     Dr.                                       Stephie Nikoloudis                 ',\n",
              " '                                     Professor                                       Kaori Okano                 ',\n",
              " '                                     Dr.                                       Ian Woolford                 ',\n",
              " '                                     Professor                                       Susan Lawrence                 ',\n",
              " '                                     Professor                                       Chris Roche                 ',\n",
              " '                                     Dr.                                       Linda Kelly                 ',\n",
              " '                                     Professor                                       James Leibold                 ',\n",
              " '                                     Dr.                                       Raelene Wilding                 ',\n",
              " '                                     Dr.                                       Azza Al Zein                 ',\n",
              " '                                     Dr.                                       Natalie Araujo                 ',\n",
              " '                                     Dr.                                       Nasya Bahfen                 ',\n",
              " '                                     Dr.                                       Christine Balint-Smith                 ',\n",
              " '                                     Dr.                                       Miriam Bankovsky                 ',\n",
              " '                                     Dr.                                       Kylie Banyard                 ',\n",
              " '                                     Dr.                                       Damien Barlow                 ',\n",
              " '                                     Dr.                                       Nicholas Barry                 ',\n",
              " '                                      Alex Blackwood                 ',\n",
              " '                                     Dr.                                       Martina Boese                 ',\n",
              " '                                      Sari Braithwaite                 ',\n",
              " '                                     Dr.                                       Daniel Bray                 ',\n",
              " '                                     Dr.                                       Roland Burke                 ',\n",
              " '                                     Dr.                                       Ivo Burum                 ',\n",
              " '                                     Dr.                                       Danielle Campbell                 ',\n",
              " '                                     Dr.                                       Andrea Carson                 ',\n",
              " '                                     Dr.                                       Federica Caso                 ',\n",
              " '                                     Dr.                                       Yuri Cath                 ',\n",
              " '                                     Dr.                                       Jake Chandler                 ',\n",
              " '                                     Dr.                                       Yangbin Chen                 ',\n",
              " '                                     Professor                                       Anthony Collins                 ',\n",
              " '                                     Dr.                                       Liz Conor                 ',\n",
              " '                                     Dr.                                       Aidan Craney                 ',\n",
              " '                                     Dr.                                       Emma Dalton                 ',\n",
              " '                                     Dr.                                       Peter Davies                 ',\n",
              " \"                                     Dr.                                       Carolyn D'Cruz                 \",\n",
              " '                                     Dr.                                       Lisa Denney                 ',\n",
              " '                                     Dr.                                       Stephanie Downes                 ',\n",
              " '                                     Dr.                                       Kirsty Duncanson                 ',\n",
              " '                                     Dr.                                       Quinn Eades                 ',\n",
              " '                                     Dr.                                       Phillip Edwards                 ',\n",
              " '                                     Dr.                                       Katherine Ellinghaus                 ',\n",
              " '                                      Ruth Faleolo                 ',\n",
              " '                                     Dr.                                       Jose Luis Fernandez Castillo                 ',\n",
              " '                                      Emily Foley                 ',\n",
              " '                                     Dr.                                       Tom Ford                 ',\n",
              " '                                     Dr.                                       Eric Gaisie                 ',\n",
              " '                                     Dr.                                       Ruth Gamble                 ',\n",
              " '                                     Dr.                                       Kelly Gardiner                 ',\n",
              " '                                     Dr.                                       Jillian Garvey                 ',\n",
              " '                                     Dr.                                       Lauren Gawne                 ',\n",
              " '                                     Dr.                                       Hulya Gilbert                 ',\n",
              " '                                     Dr.                                       Andrew Goodman                 ',\n",
              " '                                     Dr.                                       Claudia Haake                 ',\n",
              " '                                     Dr.                                       Ben Habib                 ',\n",
              " '                                     Dr.                                       Alexis Harley                 ',\n",
              " '                                     Dr.                                       Sianan Healy                 ',\n",
              " '                                     Dr.                                       Nicholas Herriman                 ',\n",
              " '                                     Dr.                                       Robert Horvath                 ',\n",
              " '                                     Dr.                                       Xianbi Huang                 ',\n",
              " '                                     Dr.                                       Niamatullah Ibrahimi                 ',\n",
              " '                                      Allan Illingworth                 ',\n",
              " '                                     Dr.                                       Elisabeth Jackson                 ',\n",
              " '                                     Dr.                                       Sara James                 ',\n",
              " '                                      Claire James                 ',\n",
              " '                                     Dr.                                       Jennifer Jones                 ',\n",
              " '                                     Dr.                                       Timothy Jones                 ',\n",
              " '                                     Dr.                                       Natasa Kampmark                 ',\n",
              " '                                      Deb Kelly                 ',\n",
              " '                                     Dr.                                       Melissa Kennedy                 ',\n",
              " '                                     Dr.                                       Bernard Keo                 ',\n",
              " '                                      Zoe Keys                 ',\n",
              " '                                     Dr.                                       Claire Knowles                 ',\n",
              " '                                     Dr.                                       Jess Kruk                 ',\n",
              " '                                     Dr.                                       Angeline Leece                 ',\n",
              " '                                      Tya Lovett                 ',\n",
              " '                                     Dr.                                       Raymond Madden                 ',\n",
              " '                                     Dr.                                       Brigid Maher                 ',\n",
              " '                                     Dr.                                       Noel Maloney                 ',\n",
              " '                                     Dr.                                       Beth Marsden                 ',\n",
              " '                                     Dr.                                       Brigid McCarthy                 ',\n",
              " '                                     Dr.                                       Tom McNamara                 ',\n",
              " '                                      Ramas McRae                 ',\n",
              " '                                     Dr.                                       Helena Menih                 ',\n",
              " '                                     Dr.                                       Matthew Meredith-Williams                 ',\n",
              " '                                     Dr.                                       Sarah Midford                 ',\n",
              " '                                     Dr.                                       Erica Millar                 ',\n",
              " '                                     Dr.                                       Jacqueline Millner                 ',\n",
              " '                                     Professor                                       Timothy Minchin                 ',\n",
              " '                                     Dr.                                       Matthew Mitchell                 ',\n",
              " '                                     Dr.                                       Anthony Moran                 ',\n",
              " '                                     Dr.                                       Stephen Morey                 ',\n",
              " '                                     Dr.                                       Makiko Nishitani                 ',\n",
              " \"                                     Dr.                                       Michael O'Keefe                 \",\n",
              " '                                     Dr.                                       Dmytro Ostapenko                 ',\n",
              " '                                     Dr.                                       Catherine Padmore                 ',\n",
              " '                                     Dr.                                       Lilian Pearce                 ',\n",
              " '                                     Dr.                                       Tarryn Phillips                 ',\n",
              " '                                     Dr.                                       Emily Poelina-Hunter                 ',\n",
              " '                                     Dr.                                       Yves Rees                 ',\n",
              " '                                     Dr.                                       Michelle Richards                 ',\n",
              " '                                     Dr.                                       Emma Robertson                 ',\n",
              " '                                     Dr.                                       Gerald Roche                 ',\n",
              " '                                     Dr.                                       Juliane Roemhild                 ',\n",
              " '                                      Ida Rogers                 ',\n",
              " '                                     Dr.                                       Emma Russell                 ',\n",
              " '                                     Dr.                                       Raul Sanchez-Urribarri                 ',\n",
              " '                                     Dr.                                       Anne-Maree Sawyer                 ',\n",
              " '                                     Dr.                                       Gillian Shepherd                 ',\n",
              " '                                     Dr.                                       Merryn Sherwood                 ',\n",
              " '                                     Dr.                                       Kiran Shinde                 ',\n",
              " '                                     Dr.                                       Nicholas Smith                 ',\n",
              " '                                     Dr.                                       Anita Smith                 ',\n",
              " '                                     Dr.                                       Nicola Stern                 ',\n",
              " '                                     Dr.                                       Keir Strickland                 ',\n",
              " '                                     Professor                                       Marija Tabain                 ',\n",
              " '                                     Dr.                                       John Taylor                 ',\n",
              " '                                     Dr.                                       Laura Tolton                 ',\n",
              " '                                     Dr.                                       Dirk Tomsa                 ',\n",
              " '                                      Karen Twigg                 ',\n",
              " '                                     Dr.                                       Nikita Vanderbyl                 ',\n",
              " '                                     Dr.                                       Matthew Wade                 ',\n",
              " '                                     Dr.                                       Mary Walker                 ',\n",
              " '                                     Dr.                                       Caroline Wallace                 ',\n",
              " '                                      Sara Weir                 ',\n",
              " '                                     Dr.                                       Jasmine Westendorf                 ',\n",
              " '                                     Dr.                                       Brooke Wilmsen                 ',\n",
              " '                                     Dr.                                       Katie Wright                 ',\n",
              " '                                     Professor                                       Clare Wright                 ',\n",
              " '                                     Dr.                                       Sallie Yea                 ',\n",
              " '                                     Professor                                       Lawrie Zion                 ']"
            ]
          },
          "metadata": {},
          "execution_count": 83
        }
      ]
    },
    {
      "cell_type": "code",
      "source": [
        "la_trobe_shss_emails = [email.replace(\"\\n\", \"\") for email in la_trobe_shss_emails]\n",
        "la_trobe_shss_emails = [email.replace(\" \", \"\") for email in la_trobe_shss_emails]\n",
        "\n",
        "for email in la_trobe_shss_emails:\n",
        "  academic_emails.append(email)"
      ],
      "metadata": {
        "id": "eKxf4pueZWaY"
      },
      "execution_count": null,
      "outputs": []
    },
    {
      "cell_type": "code",
      "source": [
        "# Swinburne\n",
        "\n",
        "# Econ, Accounting, Finance\n",
        "\n",
        "swinburne_bs_emails = []\n",
        "\n",
        "url_swinburne_bs = 'https://www.swinburne.edu.au/about/our-structure/organisational-structure/schools-departments/school-business-law-entrepreneurship/department-accounting-economics-finance/#people-academic'\n",
        "\n",
        "page = read_url(url_swinburne_bs)\n",
        "\n",
        "a_tags = page.findAll('a')\n",
        "\n",
        "for a_tag in a_tags:\n",
        "  if '@swinburne.edu.au' in a_tag['href']:\n",
        "    swinburne_bs_emails.append(a_tag.text)"
      ],
      "metadata": {
        "id": "V2damrBWDkAw"
      },
      "execution_count": null,
      "outputs": []
    },
    {
      "cell_type": "code",
      "source": [
        "for email in swinburne_bs_emails:\n",
        "  academic_emails.append(email)"
      ],
      "metadata": {
        "id": "IFB0xXz7L523"
      },
      "execution_count": null,
      "outputs": []
    },
    {
      "cell_type": "code",
      "source": [
        "# Swinburne \n",
        "\n",
        "# School of humanities and social sciences \n",
        "\n",
        "swinburne_hss_emails = []\n",
        "\n",
        "url_swinburne_hss = 'https://www.swinburne.edu.au/about/our-structure/organisational-structure/schools-departments/school-social-sciences-media-film-education/department-humanities-social-sciences/#people-department-staff'\n",
        "\n",
        "page = read_url(url_swinburne_hss)\n",
        "\n",
        "a_tags = page.findAll('a')\n",
        "\n",
        "for a_tag in a_tags:\n",
        "  if '@swinburne.edu.au' in a_tag['href']:\n",
        "    swinburne_hss_emails.append(a_tag.text)"
      ],
      "metadata": {
        "id": "XQy99keGEAMJ"
      },
      "execution_count": null,
      "outputs": []
    },
    {
      "cell_type": "code",
      "source": [
        "for email in swinburne_hss_emails:\n",
        "  academic_emails.append(email)"
      ],
      "metadata": {
        "id": "4Fhh9fFzMGE-"
      },
      "execution_count": null,
      "outputs": []
    },
    {
      "cell_type": "code",
      "source": [
        "academic_contacts = pd.DataFrame({\n",
        "    \"name\":academic_names,\n",
        "    \"page\":academic_pages,\n",
        "    \"email\":academic_emails\n",
        "})\n"
      ],
      "metadata": {
        "id": "-c-8kwkSbs_z"
      },
      "execution_count": null,
      "outputs": []
    },
    {
      "cell_type": "code",
      "source": [
        "academic_emails = [email for email in academic_emails if '@' in email]"
      ],
      "metadata": {
        "id": "IlqFLpSQb9No"
      },
      "execution_count": null,
      "outputs": []
    },
    {
      "cell_type": "code",
      "source": [
        "emails = np.array(academic_emails)"
      ],
      "metadata": {
        "id": "l3wIeY8cMPx3"
      },
      "execution_count": null,
      "outputs": []
    },
    {
      "cell_type": "code",
      "source": [
        "len(np.unique(emails))"
      ],
      "metadata": {
        "colab": {
          "base_uri": "https://localhost:8080/"
        },
        "id": "aqk2qOEPNsD8",
        "outputId": "4c560a01-977a-4203-9db1-d8a3766e30d3"
      },
      "execution_count": null,
      "outputs": [
        {
          "output_type": "execute_result",
          "data": {
            "text/plain": [
              "1409"
            ]
          },
          "metadata": {},
          "execution_count": 66
        }
      ]
    },
    {
      "cell_type": "code",
      "source": [
        "emails = np.unique(emails)"
      ],
      "metadata": {
        "id": "bzaPzQZrN1dZ"
      },
      "execution_count": null,
      "outputs": []
    },
    {
      "cell_type": "code",
      "source": [
        "len(emails)"
      ],
      "metadata": {
        "colab": {
          "base_uri": "https://localhost:8080/"
        },
        "id": "pcgKzFaCN8Bv",
        "outputId": "dcd2dfc1-8f6a-41e1-a444-9b6ac94acd19"
      },
      "execution_count": null,
      "outputs": [
        {
          "output_type": "execute_result",
          "data": {
            "text/plain": [
              "1409"
            ]
          },
          "metadata": {},
          "execution_count": 69
        }
      ]
    },
    {
      "cell_type": "code",
      "source": [
        "list = pd.DataFrame({\n",
        "    'emails': emails\n",
        "})"
      ],
      "metadata": {
        "id": "cIhAaWg2N-h3"
      },
      "execution_count": null,
      "outputs": []
    },
    {
      "cell_type": "code",
      "source": [
        "list.to_csv('academic_emails.csv')\n",
        "!cp academic_emails.csv \"drive/My Drive/\""
      ],
      "metadata": {
        "id": "mgajYniROIos"
      },
      "execution_count": null,
      "outputs": []
    }
  ]
}